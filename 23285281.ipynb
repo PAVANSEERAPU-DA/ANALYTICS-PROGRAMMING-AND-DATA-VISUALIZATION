{
 "cells": [
  {
   "cell_type": "markdown",
   "id": "62cfc1be-c5b7-4a04-881f-614f26f91150",
   "metadata": {},
   "source": [
    "#### *VEERA PAVAN KUMAR SEERAPU*\n",
    "\n",
    "#### *23285281*\n",
    "\n",
    "#### *ANALYTICS PROGRAMMING AND DATA VISUALIZATION*"
   ]
  },
  {
   "cell_type": "markdown",
   "id": "4e90d400-7250-4e97-8ab2-bdd7281c02ac",
   "metadata": {},
   "source": [
    "##### *Import necessary libraries*"
   ]
  },
  {
   "cell_type": "code",
   "execution_count": 1,
   "id": "53150b19-32d0-40bc-b717-18d517fed40d",
   "metadata": {},
   "outputs": [],
   "source": [
    "import json\n",
    "\n",
    "from pymongo import MongoClient\n",
    "\n",
    "import pandas as pd\n",
    "\n",
    "from sqlalchemy import create_engine\n",
    "\n",
    "import numpy as np\n",
    "\n",
    "from scipy.stats import ttest_ind, pearsonr\n",
    "from sklearn.model_selection import train_test_split\n",
    "from sklearn.linear_model import LinearRegression, LogisticRegression\n",
    "from sklearn.neighbors import KNeighborsRegressor\n",
    "from sklearn.ensemble import RandomForestRegressor\n",
    "from sklearn.metrics import mean_squared_error, r2_score, accuracy_score, classification_report, roc_curve, roc_auc_score\n",
    "from sklearn.preprocessing import StandardScaler, OneHotEncoder, PolynomialFeatures\n",
    "\n",
    "from imblearn.over_sampling import SMOTE\n",
    "from sklearn.preprocessing import OneHotEncoder, PolynomialFeatures\n",
    "from sklearn.model_selection import GridSearchCV\n",
    "from sklearn.ensemble import RandomForestClassifier\n",
    "\n",
    "import plotly.express as px\n",
    "import plotly.graph_objects as go\n",
    "\n",
    "from dash import Dash, dcc, html, Input, Output\n",
    "\n",
    "import warnings\n",
    "warnings.filterwarnings('ignore')"
   ]
  },
  {
   "cell_type": "markdown",
   "id": "f28060d4-336c-47c3-b3ea-b3b13f2ad4ab",
   "metadata": {},
   "source": [
    "##### *Store Raw Data in MongoDB*"
   ]
  },
  {
   "cell_type": "code",
   "execution_count": 2,
   "id": "b79dea22-2d4d-424a-a4e5-85842ddc6e32",
   "metadata": {},
   "outputs": [
    {
     "name": "stdout",
     "output_type": "stream",
     "text": [
      "Inserted 3064 records into MongoDB.\n"
     ]
    }
   ],
   "source": [
    "# MongoDB connection\n",
    "client = MongoClient('mongodb://localhost:27017/')\n",
    "db = client['temperature_data_db']\n",
    "collection = db['raw_temperatures']\n",
    "\n",
    "# Load JSON data\n",
    "with open('Global_Temperatures.json', 'r') as file:\n",
    "    data = json.load(file)\n",
    "\n",
    "# Insert data into MongoDB\n",
    "collection.drop() \n",
    "collection.insert_many(data)\n",
    "print(f\"Inserted {collection.count_documents({})} records into MongoDB.\")"
   ]
  },
  {
   "cell_type": "markdown",
   "id": "1c82fc94-a673-4e22-be66-d5ad449e50d1",
   "metadata": {},
   "source": [
    "##### *ETL Process*"
   ]
  },
  {
   "cell_type": "code",
   "execution_count": 3,
   "id": "eb952dbf-0295-47ed-8a2f-fff6421d6e7d",
   "metadata": {},
   "outputs": [],
   "source": [
    "# Extract from MongoDB\n",
    "raw_data = list(collection.find())\n",
    "df = pd.json_normalize(raw_data)"
   ]
  },
  {
   "cell_type": "code",
   "execution_count": 14,
   "id": "03a92b84-dd63-4cba-bb1d-e5dbe518e230",
   "metadata": {},
   "outputs": [
    {
     "name": "stdout",
     "output_type": "stream",
     "text": [
      "Index(['region', 'country', 'state', 'city', 'year', 'temperature'], dtype='object')\n"
     ]
    }
   ],
   "source": [
    "# Transform with Pandas\n",
    "print(df.columns)"
   ]
  },
  {
   "cell_type": "code",
   "execution_count": 5,
   "id": "3bf12138-e0d9-41b1-9871-6f9fb0499edf",
   "metadata": {},
   "outputs": [
    {
     "name": "stdout",
     "output_type": "stream",
     "text": [
      "Initial Data Info:\n",
      "<class 'pandas.core.frame.DataFrame'>\n",
      "RangeIndex: 3064 entries, 0 to 3063\n",
      "Data columns (total 6 columns):\n",
      " #   Column       Non-Null Count  Dtype  \n",
      "---  ------       --------------  -----  \n",
      " 0   region       3064 non-null   object \n",
      " 1   country      3064 non-null   object \n",
      " 2   state        3064 non-null   object \n",
      " 3   city         3064 non-null   object \n",
      " 4   year         3064 non-null   int64  \n",
      " 5   temperature  3064 non-null   float64\n",
      "dtypes: float64(1), int64(1), object(4)\n",
      "memory usage: 143.8+ KB\n",
      "None\n"
     ]
    }
   ],
   "source": [
    "# Initial data exploration\n",
    "print(\"Initial Data Info:\")\n",
    "print(df.info())"
   ]
  },
  {
   "cell_type": "code",
   "execution_count": 6,
   "id": "9eee1d06-7e57-4b38-9200-b7597253905e",
   "metadata": {},
   "outputs": [
    {
     "name": "stdout",
     "output_type": "stream",
     "text": [
      "Initial Null Values:\n",
      "region         0\n",
      "country        0\n",
      "state          0\n",
      "city           0\n",
      "year           0\n",
      "temperature    0\n",
      "dtype: int64\n"
     ]
    }
   ],
   "source": [
    "print(\"Initial Null Values:\")\n",
    "print(df.isnull().sum())"
   ]
  },
  {
   "cell_type": "code",
   "execution_count": 7,
   "id": "502523f3-05cb-437c-a115-14ee65d76790",
   "metadata": {},
   "outputs": [],
   "source": [
    "# Handle non-finite values\n",
    "df = df[df['temperature'].notna() & ~np.isinf(df['temperature'])]"
   ]
  },
  {
   "cell_type": "code",
   "execution_count": 8,
   "id": "79801353-5fa8-427e-95cb-4d89cc39254e",
   "metadata": {},
   "outputs": [],
   "source": [
    "# Data type conversion\n",
    "df['year'] = pd.to_numeric(df['year'], errors='coerce').astype('Int64')\n",
    "df['temperature'] = df['temperature'].astype(float)"
   ]
  },
  {
   "cell_type": "code",
   "execution_count": 9,
   "id": "ee27e76c-ea90-4c25-9f79-ca6b3937132a",
   "metadata": {},
   "outputs": [],
   "source": [
    "# Handle remaining nulls\n",
    "df['state'] = df['state'].fillna('')\n",
    "df['city'] = df['city'].fillna('')\n",
    "df = df.dropna(subset=['year', 'temperature'])"
   ]
  },
  {
   "cell_type": "code",
   "execution_count": 10,
   "id": "98b1a0e4-a7d7-4979-9bd5-959e28f55ec6",
   "metadata": {},
   "outputs": [],
   "source": [
    "# Outlier detection (using IQR)\n",
    "Q1 = df['temperature'].quantile(0.25)\n",
    "Q3 = df['temperature'].quantile(0.75)\n",
    "IQR = Q3 - Q1\n",
    "df = df[(df['temperature'] >= (Q1 - 1.5 * IQR)) & (df['temperature'] <= (Q3 + 1.5 * IQR))]"
   ]
  },
  {
   "cell_type": "code",
   "execution_count": 11,
   "id": "a11f655c-3a50-4c45-a05f-4c049a1ccccf",
   "metadata": {},
   "outputs": [
    {
     "name": "stdout",
     "output_type": "stream",
     "text": [
      "\n",
      "Data Info After Cleaning:\n",
      "<class 'pandas.core.frame.DataFrame'>\n",
      "RangeIndex: 3064 entries, 0 to 3063\n",
      "Data columns (total 6 columns):\n",
      " #   Column       Non-Null Count  Dtype  \n",
      "---  ------       --------------  -----  \n",
      " 0   region       3064 non-null   object \n",
      " 1   country      3064 non-null   object \n",
      " 2   state        3064 non-null   object \n",
      " 3   city         3064 non-null   object \n",
      " 4   year         3064 non-null   Int64  \n",
      " 5   temperature  3064 non-null   float64\n",
      "dtypes: Int64(1), float64(1), object(4)\n",
      "memory usage: 146.7+ KB\n",
      "None\n"
     ]
    }
   ],
   "source": [
    "print(\"\\nData Info After Cleaning:\")\n",
    "print(df.info())"
   ]
  },
  {
   "cell_type": "code",
   "execution_count": 12,
   "id": "27913e07-f4b4-482e-a6b3-bc9c3531847a",
   "metadata": {},
   "outputs": [
    {
     "name": "stdout",
     "output_type": "stream",
     "text": [
      "\n",
      "Null Values After Cleaning:\n",
      "region         0\n",
      "country        0\n",
      "state          0\n",
      "city           0\n",
      "year           0\n",
      "temperature    0\n",
      "dtype: int64\n"
     ]
    }
   ],
   "source": [
    "print(\"\\nNull Values After Cleaning:\")\n",
    "print(df.isnull().sum())"
   ]
  },
  {
   "cell_type": "code",
   "execution_count": 13,
   "id": "55210fb0-de20-4455-b85c-bda3a7c4e037",
   "metadata": {},
   "outputs": [
    {
     "name": "stdout",
     "output_type": "stream",
     "text": [
      "\n",
      "Descriptive Statistics:\n",
      "              year  temperature\n",
      "count       3064.0  3064.000000\n",
      "mean   2007.219974    65.882901\n",
      "std       7.439685    13.572005\n",
      "min         1995.0    17.421642\n",
      "25%         2001.0    53.831172\n",
      "50%         2007.0    66.534751\n",
      "75%         2014.0    79.474858\n",
      "max         2020.0    90.750000\n"
     ]
    }
   ],
   "source": [
    "print(\"\\nDescriptive Statistics:\")\n",
    "print(df.describe())"
   ]
  },
  {
   "cell_type": "markdown",
   "id": "5bea2f6c-a6d4-490d-852d-9c551d5d21ab",
   "metadata": {},
   "source": [
    "##### *Feature engineering for to Calculate the temperature change*"
   ]
  },
  {
   "cell_type": "code",
   "execution_count": 14,
   "id": "86e147e1-10ce-4e4d-99f4-9556455bc1ee",
   "metadata": {},
   "outputs": [],
   "source": [
    "df = df.sort_values(['country', 'city', 'year'])\n",
    "df['temp_change'] = df.groupby(['country', 'city'])['temperature'].pct_change() * 100\n",
    "df['temp_change'] = df['temp_change'].fillna(0)"
   ]
  },
  {
   "cell_type": "code",
   "execution_count": 15,
   "id": "23b0ab38-c4b3-4fc4-bdaf-ae16d44dd4d0",
   "metadata": {},
   "outputs": [],
   "source": [
    "# Create binary target for Logistic Regression\n",
    "median_temp = df['temperature'].median()\n",
    "df['high_temp'] = (df['temperature'] > median_temp).astype(int)"
   ]
  },
  {
   "cell_type": "markdown",
   "id": "69dcf57b-4f88-4b82-8dd0-f3f6b659a444",
   "metadata": {},
   "source": [
    "##### *Load into PostgreSQL*"
   ]
  },
  {
   "cell_type": "code",
   "execution_count": 16,
   "id": "a0b9421f-77dc-4e64-b508-7d18f6d8681a",
   "metadata": {},
   "outputs": [
    {
     "name": "stdout",
     "output_type": "stream",
     "text": [
      "Processed data loaded into PostgreSQL.\n"
     ]
    }
   ],
   "source": [
    "DB_NAME = \"temperature_data_db\"\n",
    "USER = \"postgres\"\n",
    "PASSWORD = \"Pavanpostgre\"  \n",
    "HOST = \"localhost\"\n",
    "PORT = \"5432\"\n",
    "engine = create_engine(f'postgresql+psycopg2://{USER}:{PASSWORD}@{HOST}:{PORT}/{DB_NAME}')\n",
    "df.to_sql('processed_temperatures', engine, if_exists='replace', index=False)\n",
    "print(\"Processed data loaded into PostgreSQL.\")"
   ]
  },
  {
   "cell_type": "markdown",
   "id": "50ce3aeb-df53-4e01-b368-4bb81262df94",
   "metadata": {},
   "source": [
    "##### *Advanced Statistical and Machine Learning Analysis*"
   ]
  },
  {
   "cell_type": "code",
   "execution_count": 17,
   "id": "1589ed45-c4eb-44d8-a536-2bad7fd88a38",
   "metadata": {},
   "outputs": [],
   "source": [
    "df = pd.read_sql('SELECT * FROM processed_temperatures', engine)"
   ]
  },
  {
   "cell_type": "markdown",
   "id": "b4504a2d-2fa5-413d-9b80-972db5af230d",
   "metadata": {},
   "source": [
    "##### *# Statistical Analysis: T-test for Africa vs. Europe temperatures in recent year*"
   ]
  },
  {
   "cell_type": "code",
   "execution_count": 18,
   "id": "54172bab-0b71-4fcd-8a9c-99706d809ef3",
   "metadata": {},
   "outputs": [
    {
     "name": "stdout",
     "output_type": "stream",
     "text": [
      "Africa 2020 data points: 23\n",
      "Europe 2020 data points: 30\n",
      "T-test (Africa vs Europe 2020): t-stat=14.16, p-value=0.0000\n"
     ]
    }
   ],
   "source": [
    "recent_year = df['year'].max()\n",
    "africa = df[(df['region'] == 'Africa') & (df['year'] == recent_year)]['temperature'].dropna()\n",
    "europe = df[(df['region'] == 'Europe') & (df['year'] == recent_year)]['temperature'].dropna()\n",
    "\n",
    "print(f\"Africa {recent_year} data points: {len(africa)}\")\n",
    "print(f\"Europe {recent_year} data points: {len(europe)}\")\n",
    "\n",
    "if len(africa) > 1 and len(europe) > 1:\n",
    "    t_stat, p_value = ttest_ind(africa, europe, equal_var=False)\n",
    "    print(f\"T-test (Africa vs Europe {recent_year}): t-stat={t_stat:.2f}, p-value={p_value:.4f}\")\n",
    "else:\n",
    "    print(f\"T-test skipped: Not enough data points for Africa or Europe in {recent_year}.\")"
   ]
  },
  {
   "cell_type": "markdown",
   "id": "2f11a20c-ba3d-470b-a12d-77f86a79a547",
   "metadata": {},
   "source": [
    "##### *Correlation for the Year vs Temperature for Brazil*"
   ]
  },
  {
   "cell_type": "code",
   "execution_count": 19,
   "id": "94b3c90b-58d5-43ae-9d22-e97b02893aec",
   "metadata": {},
   "outputs": [
    {
     "name": "stdout",
     "output_type": "stream",
     "text": [
      "Correlation (Brazil Year vs Temperature): 0.3527, p-value=0.0772\n"
     ]
    }
   ],
   "source": [
    "bra = df[df['country'] == 'Brazil'].copy()\n",
    "bra['year'] = pd.to_numeric(bra['year'], errors='coerce')\n",
    "bra['temperature'] = pd.to_numeric(bra['temperature'], errors='coerce')\n",
    "bra = bra.dropna(subset=['year', 'temperature'])\n",
    "if len(bra) > 1:\n",
    "    corr, p_val = pearsonr(bra['year'], bra['temperature'])\n",
    "    print(f\"Correlation (Brazil Year vs Temperature): {corr:.4f}, p-value={p_val:.4f}\")\n",
    "else:\n",
    "    print(\"Correlation skipped: Not enough data for Brazil.\")"
   ]
  },
  {
   "cell_type": "markdown",
   "id": "d0ba78d6-de27-4a31-8596-61210d56b516",
   "metadata": {},
   "source": [
    "##### *Machine Learning Models*"
   ]
  },
  {
   "cell_type": "code",
   "execution_count": 20,
   "id": "858590a6-656d-40a9-9e3c-0847eead4650",
   "metadata": {},
   "outputs": [],
   "source": [
    "# Create df_ml and ensure no missing values in key columns\n",
    "df_ml = df.dropna(subset=['year', 'temp_change', 'temperature', 'high_temp', 'region', 'country', 'city'])"
   ]
  },
  {
   "cell_type": "code",
   "execution_count": 21,
   "id": "79cc5840-e3ce-47a9-95c6-d6999dbd2cd7",
   "metadata": {},
   "outputs": [],
   "source": [
    "# Feature Engineering: Add temp_lag1\n",
    "df_ml['temp_lag1'] = df_ml.groupby(['country', 'city'])['temperature'].shift(1)\n",
    "df_ml = df_ml.dropna(subset=['temp_lag1'])  "
   ]
  },
  {
   "cell_type": "code",
   "execution_count": 22,
   "id": "bd255c55-737a-49bd-89b7-80a14a387dd4",
   "metadata": {},
   "outputs": [],
   "source": [
    "# Encode the 'region' column\n",
    "encoder = OneHotEncoder(sparse_output=False, handle_unknown='ignore')\n",
    "encoded_regions = encoder.fit_transform(df_ml[['region']])\n",
    "encoded_regions_df = pd.DataFrame(encoded_regions, columns=encoder.get_feature_names_out(['region']))"
   ]
  },
  {
   "cell_type": "code",
   "execution_count": 23,
   "id": "eed89daf-402a-48f7-afca-78b17a6f69f5",
   "metadata": {},
   "outputs": [],
   "source": [
    "# Combine encoded regions with df_ml\n",
    "df_ml = pd.concat([df_ml.reset_index(drop=True), encoded_regions_df], axis=1)"
   ]
  },
  {
   "cell_type": "code",
   "execution_count": 24,
   "id": "87a44dcf-12fb-431a-b2b9-49106fa0c89e",
   "metadata": {},
   "outputs": [
    {
     "name": "stdout",
     "output_type": "stream",
     "text": [
      "Linear Regression: R2=0.9991, MSE=0.1683\n"
     ]
    }
   ],
   "source": [
    "# Define features (X) and target (y_reg) for regression\n",
    "X = df_ml[['year', 'temp_change', 'temp_lag1'] + list(encoder.get_feature_names_out(['region']))]\n",
    "y_reg = df_ml['temperature'] \n",
    "\n",
    "# Split data\n",
    "X_train, X_test, y_train_reg, y_test_reg = train_test_split(X, y_reg, test_size=0.2, random_state=42)\n",
    "\n",
    "# Scale features\n",
    "scaler = StandardScaler()\n",
    "X_train_scaled = scaler.fit_transform(X_train)\n",
    "X_test_scaled = scaler.transform(X_test)\n",
    "\n",
    "# Train Linear Regression\n",
    "mlr = LinearRegression()\n",
    "mlr.fit(X_train_scaled, y_train_reg)\n",
    "y_pred_mlr = mlr.predict(X_test_scaled)\n",
    "mlr_r2 = r2_score(y_test_reg, y_pred_mlr)\n",
    "mlr_mse = mean_squared_error(y_test_reg, y_pred_mlr)\n",
    "print(f\"Linear Regression: R2={mlr_r2:.4f}, MSE={mlr_mse:.4f}\")"
   ]
  },
  {
   "cell_type": "markdown",
   "id": "4a057af8-58c3-4894-a8b8-13f08c2e8390",
   "metadata": {},
   "source": [
    "##### *Multiple Linear Regression*"
   ]
  },
  {
   "cell_type": "code",
   "execution_count": 25,
   "id": "b4999bf3-cd3e-4236-a3f8-5323932541d3",
   "metadata": {},
   "outputs": [
    {
     "name": "stdout",
     "output_type": "stream",
     "text": [
      "Multiple Linear Regression: R2=0.9991, MSE=0.1683\n"
     ]
    }
   ],
   "source": [
    "# Train Linear Regression\n",
    "mlr = LinearRegression()\n",
    "mlr.fit(X_train_scaled, y_train_reg)\n",
    "y_pred_mlr = mlr.predict(X_test_scaled)\n",
    "mlr_r2 = r2_score(y_test_reg, y_pred_mlr)\n",
    "mlr_mse = mean_squared_error(y_test_reg, y_pred_mlr)\n",
    "print(f\"Multiple Linear Regression: R2={mlr_r2:.4f}, MSE={mlr_mse:.4f}\")"
   ]
  },
  {
   "cell_type": "markdown",
   "id": "efbf7c30-ec25-405e-b77d-d56bea82a540",
   "metadata": {},
   "source": [
    "##### *Random Forest Classifier*"
   ]
  },
  {
   "cell_type": "code",
   "execution_count": 26,
   "id": "304111a0-c1f7-4c6a-bcc7-31b7cae2fd56",
   "metadata": {},
   "outputs": [
    {
     "name": "stdout",
     "output_type": "stream",
     "text": [
      "Random Forest Accuracy: 0.9881\n",
      "\n",
      "Random Forest Classification Report:\n",
      "              precision    recall  f1-score   support\n",
      "\n",
      "           0       0.99      0.99      0.99       300\n",
      "           1       0.99      0.99      0.99       287\n",
      "\n",
      "    accuracy                           0.99       587\n",
      "   macro avg       0.99      0.99      0.99       587\n",
      "weighted avg       0.99      0.99      0.99       587\n",
      "\n"
     ]
    }
   ],
   "source": [
    "# Define features (X) and target (y_class) for classification\n",
    "X = df_ml[['year', 'temp_change', 'temp_lag1'] + list(encoder.get_feature_names_out(['region']))]\n",
    "y_class = df_ml['high_temp']  \n",
    "\n",
    "# Split data\n",
    "X_train, X_test, y_train_class, y_test_class = train_test_split(X, y_class, test_size=0.2, random_state=42)\n",
    "\n",
    "# Scale features\n",
    "scaler = StandardScaler()\n",
    "X_train_scaled = scaler.fit_transform(X_train)\n",
    "X_test_scaled = scaler.transform(X_test)\n",
    "\n",
    "# Apply SMOTE to handle class imbalance\n",
    "smote = SMOTE(random_state=42)\n",
    "X_train_scaled, y_train_class = smote.fit_resample(X_train_scaled, y_train_class)\n",
    "\n",
    "# Train Random Forest Classifier\n",
    "rf_class = RandomForestClassifier(n_estimators=100, random_state=42)\n",
    "rf_class.fit(X_train_scaled, y_train_class)\n",
    "\n",
    "# Predict and evaluate\n",
    "y_pred_rf = rf_class.predict(X_test_scaled)\n",
    "print(f\"Random Forest Accuracy: {accuracy_score(y_test_class, y_pred_rf):.4f}\")\n",
    "print(\"\\nRandom Forest Classification Report:\")\n",
    "print(classification_report(y_test_class, y_pred_rf))"
   ]
  },
  {
   "cell_type": "markdown",
   "id": "3c41ab61-12d6-4352-bf34-bd31c506a9db",
   "metadata": {},
   "source": [
    "##### *Random Forest Regressor*"
   ]
  },
  {
   "cell_type": "code",
   "execution_count": 27,
   "id": "035e1389-e952-48e2-925e-6ccf088b64f8",
   "metadata": {},
   "outputs": [
    {
     "name": "stdout",
     "output_type": "stream",
     "text": [
      "Random Forest Regressor: R2=0.9985, MSE=0.2642\n"
     ]
    }
   ],
   "source": [
    "# Define features (X) and target (y_reg) for regression\n",
    "X = df_ml[['year', 'temp_change', 'temp_lag1'] + list(encoder.get_feature_names_out(['region']))]\n",
    "y_reg = df_ml['temperature']  \n",
    "\n",
    "# Split data\n",
    "X_train, X_test, y_train_reg, y_test_reg = train_test_split(X, y_reg, test_size=0.2, random_state=42)\n",
    "\n",
    "# Scale features\n",
    "scaler = StandardScaler()\n",
    "X_train_scaled = scaler.fit_transform(X_train)\n",
    "X_test_scaled = scaler.transform(X_test)\n",
    "\n",
    "# Train Random Forest Regressor\n",
    "rf = RandomForestRegressor(n_estimators=100, random_state=42)\n",
    "rf.fit(X_train_scaled, y_train_reg)\n",
    "y_pred_rf = rf.predict(X_test_scaled)\n",
    "rf_r2 = r2_score(y_test_reg, y_pred_rf)\n",
    "rf_mse = mean_squared_error(y_test_reg, y_pred_rf)\n",
    "print(f\"Random Forest Regressor: R2={rf_r2:.4f}, MSE={rf_mse:.4f}\")"
   ]
  },
  {
   "cell_type": "markdown",
   "id": "c9ebbff7-4e48-4790-aa66-a4dce5c2619f",
   "metadata": {},
   "source": [
    "##### *K-Nearest Neighbors Regressor*"
   ]
  },
  {
   "cell_type": "code",
   "execution_count": 28,
   "id": "0c82ace8-5620-4232-82b8-1ce8cd43ac67",
   "metadata": {},
   "outputs": [
    {
     "name": "stdout",
     "output_type": "stream",
     "text": [
      "KNN Regressor: R2=0.9818, MSE=3.3071\n"
     ]
    }
   ],
   "source": [
    "knn = KNeighborsRegressor(n_neighbors=5)\n",
    "knn.fit(X_train_scaled, y_train_reg)\n",
    "y_pred_knn = knn.predict(X_test_scaled)\n",
    "knn_r2 = r2_score(y_test_reg, y_pred_knn)\n",
    "knn_mse = mean_squared_error(y_test_reg, y_pred_knn)\n",
    "print(f\"KNN Regressor: R2={knn_r2:.4f}, MSE={knn_mse:.4f}\")"
   ]
  },
  {
   "cell_type": "markdown",
   "id": "45eeb284-c1c9-48ce-b7cc-289dd6f24883",
   "metadata": {},
   "source": [
    "##### *Logistic Regression*"
   ]
  },
  {
   "cell_type": "code",
   "execution_count": 29,
   "id": "c6f9aaef-3f0f-4bd5-9a44-acc5b7df5f92",
   "metadata": {},
   "outputs": [
    {
     "name": "stdout",
     "output_type": "stream",
     "text": [
      "Tuned Logistic Regression Accuracy: 0.9932\n",
      "\n",
      "Tuned Logistic Regression Classification Report:\n",
      "              precision    recall  f1-score   support\n",
      "\n",
      "           0       0.99      0.99      0.99       300\n",
      "           1       0.99      0.99      0.99       287\n",
      "\n",
      "    accuracy                           0.99       587\n",
      "   macro avg       0.99      0.99      0.99       587\n",
      "weighted avg       0.99      0.99      0.99       587\n",
      "\n",
      "Best Parameters: {'C': 10, 'solver': 'lbfgs'}\n"
     ]
    }
   ],
   "source": [
    "# Define features (X) and target (y_class) for classification\n",
    "X = df_ml[['year', 'temp_change', 'temp_lag1'] + list(encoder.get_feature_names_out(['region']))]\n",
    "y_class = df_ml['high_temp'] \n",
    "\n",
    "# Split data\n",
    "X_train, X_test, y_train_class, y_test_class = train_test_split(X, y_class, test_size=0.2, random_state=42)\n",
    "\n",
    "# Scale features\n",
    "scaler = StandardScaler()\n",
    "X_train_scaled = scaler.fit_transform(X_train)\n",
    "X_test_scaled = scaler.transform(X_test)\n",
    "\n",
    "# Apply SMOTE to handle class imbalance\n",
    "smote = SMOTE(random_state=42)\n",
    "X_train_scaled, y_train_class = smote.fit_resample(X_train_scaled, y_train_class)\n",
    "param_grid = {'C': [0.01, 0.1, 1, 10], 'solver': ['lbfgs', 'liblinear']}\n",
    "grid_search = GridSearchCV(LogisticRegression(random_state=42, max_iter=1000), param_grid, cv=5, scoring='accuracy')\n",
    "grid_search.fit(X_train_scaled, y_train_class)\n",
    "\n",
    "# Get the best estimator\n",
    "log_reg = grid_search.best_estimator_\n",
    "\n",
    "# Predict and evaluate\n",
    "y_pred_log_reg = log_reg.predict(X_test_scaled)\n",
    "print(f\"Tuned Logistic Regression Accuracy: {accuracy_score(y_test_class, y_pred_log_reg):.4f}\")\n",
    "print(\"\\nTuned Logistic Regression Classification Report:\")\n",
    "print(classification_report(y_test_class, y_pred_log_reg))\n",
    "print(f\"Best Parameters: {grid_search.best_params_}\")"
   ]
  },
  {
   "cell_type": "markdown",
   "id": "6de8564f-71cd-4b28-9fb7-8a1a8bc2203d",
   "metadata": {},
   "source": [
    "##### *Gradient Descent for Brazil*"
   ]
  },
  {
   "cell_type": "code",
   "execution_count": 30,
   "id": "aca48d5e-8eec-4c0b-bc1b-aaa93d4f1d48",
   "metadata": {},
   "outputs": [
    {
     "name": "stdout",
     "output_type": "stream",
     "text": [
      "Gradient Descent (Brazil): Slope=0.24, Intercept=62.28, RMSE=9.77\n"
     ]
    }
   ],
   "source": [
    "def gradient_descent(X, y, learning_rate=0.0001, epochs=10000):\n",
    "    X = (X - X.mean()) / X.std()\n",
    "    m, b = 0, 0\n",
    "    n = len(X)\n",
    "    for _ in range(epochs):\n",
    "        y_pred = m * X + b\n",
    "        dm = -(2/n) * sum(X * (y - y_pred))\n",
    "        db = -(2/n) * sum(y - y_pred)\n",
    "        m -= learning_rate * dm\n",
    "        b -= learning_rate * db\n",
    "    return m, b\n",
    "\n",
    "bra = df[df['country'] == 'Brazil'].dropna(subset=['year', 'temperature'])\n",
    "if len(bra) > 1:\n",
    "    X_gd = bra['year'].values\n",
    "    y_gd = bra['temperature'].values\n",
    "    m, b = gradient_descent(X_gd, y_gd)\n",
    "    X_gd_scaled = (X_gd - X_gd.mean()) / X_gd.std()\n",
    "    y_pred_gd = m * X_gd_scaled + b\n",
    "    gd_rmse = np.sqrt(mean_squared_error(y_gd, y_pred_gd))\n",
    "    print(f\"Gradient Descent (Brazil): Slope={m:.2f}, Intercept={b:.2f}, RMSE={gd_rmse:.2f}\")\n",
    "else:\n",
    "    print(\"Gradient Descent skipped: Not enough data for Brazil.\")"
   ]
  },
  {
   "cell_type": "markdown",
   "id": "e3033987-b4cf-497d-a6f2-944c09a23cac",
   "metadata": {},
   "source": [
    "#### *Advanced Data Visualization (Interactive Dashboard)*"
   ]
  },
  {
   "cell_type": "code",
   "execution_count": 31,
   "id": "7b1e54bc-8ed6-4d40-a38a-0cd8229d1d67",
   "metadata": {},
   "outputs": [],
   "source": [
    "df = pd.read_sql('SELECT * FROM processed_temperatures', engine)\n",
    "\n",
    "# Define color scheme\n",
    "colors = {\n",
    "    'background': '#1E1E2E',\n",
    "    'card': '#2A2A3C',\n",
    "    'text': '#D1D1D6',\n",
    "    'primary': '#6E56CF',\n",
    "    'secondary': '#FF6B6B',\n",
    "}"
   ]
  },
  {
   "cell_type": "code",
   "execution_count": 32,
   "id": "542c2f55-d37f-4292-81c9-a3ab86329b86",
   "metadata": {},
   "outputs": [
    {
     "name": "stdout",
     "output_type": "stream",
     "text": [
      "Requirement already satisfied: pip in c:\\users\\vpava\\anaconda3\\lib\\site-packages (25.0.1)\n",
      "Note: you may need to restart the kernel to use updated packages.\n"
     ]
    }
   ],
   "source": [
    "pip install --upgrade pip"
   ]
  },
  {
   "cell_type": "code",
   "execution_count": 33,
   "id": "fc0dceb1-0f10-4346-b8eb-4093d4fc519e",
   "metadata": {},
   "outputs": [
    {
     "name": "stdout",
     "output_type": "stream",
     "text": [
      "Requirement already satisfied: dash-bootstrap-components in c:\\users\\vpava\\anaconda3\\lib\\site-packages (2.0.1)\n",
      "Requirement already satisfied: dash>=3.0.0 in c:\\users\\vpava\\anaconda3\\lib\\site-packages (from dash-bootstrap-components) (3.0.2)\n",
      "Requirement already satisfied: Flask<3.1,>=1.0.4 in c:\\users\\vpava\\anaconda3\\lib\\site-packages (from dash>=3.0.0->dash-bootstrap-components) (3.0.3)\n",
      "Requirement already satisfied: Werkzeug<3.1 in c:\\users\\vpava\\anaconda3\\lib\\site-packages (from dash>=3.0.0->dash-bootstrap-components) (3.0.3)\n",
      "Requirement already satisfied: plotly>=5.0.0 in c:\\users\\vpava\\anaconda3\\lib\\site-packages (from dash>=3.0.0->dash-bootstrap-components) (5.24.1)\n",
      "Requirement already satisfied: importlib-metadata in c:\\users\\vpava\\anaconda3\\lib\\site-packages (from dash>=3.0.0->dash-bootstrap-components) (7.0.1)\n",
      "Requirement already satisfied: typing-extensions>=4.1.1 in c:\\users\\vpava\\anaconda3\\lib\\site-packages (from dash>=3.0.0->dash-bootstrap-components) (4.11.0)\n",
      "Requirement already satisfied: requests in c:\\users\\vpava\\anaconda3\\lib\\site-packages (from dash>=3.0.0->dash-bootstrap-components) (2.32.3)\n",
      "Requirement already satisfied: retrying in c:\\users\\vpava\\anaconda3\\lib\\site-packages (from dash>=3.0.0->dash-bootstrap-components) (1.3.4)\n",
      "Requirement already satisfied: nest-asyncio in c:\\users\\vpava\\anaconda3\\lib\\site-packages (from dash>=3.0.0->dash-bootstrap-components) (1.6.0)\n",
      "Requirement already satisfied: setuptools in c:\\users\\vpava\\anaconda3\\lib\\site-packages (from dash>=3.0.0->dash-bootstrap-components) (75.1.0)\n",
      "Requirement already satisfied: Jinja2>=3.1.2 in c:\\users\\vpava\\anaconda3\\lib\\site-packages (from Flask<3.1,>=1.0.4->dash>=3.0.0->dash-bootstrap-components) (3.1.4)\n",
      "Requirement already satisfied: itsdangerous>=2.1.2 in c:\\users\\vpava\\anaconda3\\lib\\site-packages (from Flask<3.1,>=1.0.4->dash>=3.0.0->dash-bootstrap-components) (2.2.0)\n",
      "Requirement already satisfied: click>=8.1.3 in c:\\users\\vpava\\anaconda3\\lib\\site-packages (from Flask<3.1,>=1.0.4->dash>=3.0.0->dash-bootstrap-components) (8.1.7)\n",
      "Requirement already satisfied: blinker>=1.6.2 in c:\\users\\vpava\\anaconda3\\lib\\site-packages (from Flask<3.1,>=1.0.4->dash>=3.0.0->dash-bootstrap-components) (1.6.2)\n",
      "Requirement already satisfied: tenacity>=6.2.0 in c:\\users\\vpava\\anaconda3\\lib\\site-packages (from plotly>=5.0.0->dash>=3.0.0->dash-bootstrap-components) (8.2.3)\n",
      "Requirement already satisfied: packaging in c:\\users\\vpava\\anaconda3\\lib\\site-packages (from plotly>=5.0.0->dash>=3.0.0->dash-bootstrap-components) (24.1)\n",
      "Requirement already satisfied: MarkupSafe>=2.1.1 in c:\\users\\vpava\\anaconda3\\lib\\site-packages (from Werkzeug<3.1->dash>=3.0.0->dash-bootstrap-components) (2.1.3)\n",
      "Requirement already satisfied: zipp>=0.5 in c:\\users\\vpava\\anaconda3\\lib\\site-packages (from importlib-metadata->dash>=3.0.0->dash-bootstrap-components) (3.17.0)\n",
      "Requirement already satisfied: charset-normalizer<4,>=2 in c:\\users\\vpava\\anaconda3\\lib\\site-packages (from requests->dash>=3.0.0->dash-bootstrap-components) (3.3.2)\n",
      "Requirement already satisfied: idna<4,>=2.5 in c:\\users\\vpava\\anaconda3\\lib\\site-packages (from requests->dash>=3.0.0->dash-bootstrap-components) (3.7)\n",
      "Requirement already satisfied: urllib3<3,>=1.21.1 in c:\\users\\vpava\\anaconda3\\lib\\site-packages (from requests->dash>=3.0.0->dash-bootstrap-components) (2.2.3)\n",
      "Requirement already satisfied: certifi>=2017.4.17 in c:\\users\\vpava\\anaconda3\\lib\\site-packages (from requests->dash>=3.0.0->dash-bootstrap-components) (2024.12.14)\n",
      "Requirement already satisfied: six>=1.7.0 in c:\\users\\vpava\\anaconda3\\lib\\site-packages (from retrying->dash>=3.0.0->dash-bootstrap-components) (1.16.0)\n",
      "Requirement already satisfied: colorama in c:\\users\\vpava\\anaconda3\\lib\\site-packages (from click>=8.1.3->Flask<3.1,>=1.0.4->dash>=3.0.0->dash-bootstrap-components) (0.4.6)\n",
      "Note: you may need to restart the kernel to use updated packages.\n"
     ]
    }
   ],
   "source": [
    "pip install dash-bootstrap-components"
   ]
  },
  {
   "cell_type": "code",
   "execution_count": 34,
   "id": "4bed58cf-2872-4a57-96e9-aee7190929a9",
   "metadata": {},
   "outputs": [
    {
     "name": "stdout",
     "output_type": "stream",
     "text": [
      "Requirement already satisfied: dash-iconify in c:\\users\\vpava\\anaconda3\\lib\\site-packages (0.1.2)\n",
      "Note: you may need to restart the kernel to use updated packages.\n"
     ]
    }
   ],
   "source": [
    "pip install dash-iconify"
   ]
  },
  {
   "cell_type": "code",
   "execution_count": 15,
   "id": "40e996bc-b4dc-4204-a350-a4fb5bf24c72",
   "metadata": {},
   "outputs": [
    {
     "data": {
      "text/html": [
       "\n",
       "        <iframe\n",
       "            width=\"100%\"\n",
       "            height=\"650\"\n",
       "            src=\"http://127.0.0.1:8050/\"\n",
       "            frameborder=\"0\"\n",
       "            allowfullscreen\n",
       "            \n",
       "        ></iframe>\n",
       "        "
      ],
      "text/plain": [
       "<IPython.lib.display.IFrame at 0x227807ea450>"
      ]
     },
     "metadata": {},
     "output_type": "display_data"
    }
   ],
   "source": [
    "import pandas as pd\n",
    "import plotly.graph_objects as go\n",
    "import plotly.express as px\n",
    "from dash import Dash, dcc, html, Input, Output\n",
    "import dash_bootstrap_components as dbc\n",
    "from dash_iconify import DashIconify\n",
    "from sklearn.model_selection import train_test_split\n",
    "from sklearn.linear_model import LogisticRegression\n",
    "from sklearn.preprocessing import StandardScaler\n",
    "from sklearn.metrics import roc_curve, roc_auc_score\n",
    "from sqlalchemy import create_engine\n",
    "\n",
    "# Database connection\n",
    "DB_NAME = \"temperature_data_db\"\n",
    "USER = \"postgres\"\n",
    "PASSWORD = \"Pavanpostgre\"\n",
    "HOST = \"localhost\"\n",
    "PORT = \"5432\"\n",
    "try:\n",
    "    engine = create_engine(f'postgresql+psycopg2://{USER}:{PASSWORD}@{HOST}:{PORT}/{DB_NAME}')\n",
    "    df = pd.read_sql('SELECT * FROM processed_temperatures', engine)\n",
    "except Exception as e:\n",
    "    print(f\"Database connection failed: {e}\")\n",
    "    df = pd.DataFrame()  # Fallback to empty DataFrame\n",
    "\n",
    "# Colors dictionary\n",
    "colors = {\n",
    "    'background': '#1E1E2E',\n",
    "    'card': '#2A2A3C',\n",
    "    'text': '#D1D1D6',\n",
    "    'primary': '#6E56CF',\n",
    "    'secondary': '#FF6B6B'\n",
    "}\n",
    "\n",
    "# Generate ROC Curve\n",
    "if not df.empty:\n",
    "    df_ml = df.dropna(subset=['year', 'temp_change', 'temperature', 'high_temp'])\n",
    "    X = df_ml[['year', 'temp_change']]\n",
    "    y_class = df_ml['high_temp']\n",
    "    X_train_class, X_test_class, y_train_class, y_test_class = train_test_split(X, y_class, test_size=0.2, random_state=42)\n",
    "    scaler = StandardScaler()\n",
    "    X_train_class_scaled = scaler.fit_transform(X_train_class)\n",
    "    X_test_class_scaled = scaler.transform(X_test_class)\n",
    "    log_reg = LogisticRegression(random_state=42)\n",
    "    log_reg.fit(X_train_class_scaled, y_train_class)\n",
    "    y_pred_proba_log_reg = log_reg.predict_proba(X_test_class_scaled)[:, 1]\n",
    "    fpr, tpr, _ = roc_curve(y_test_class, y_pred_proba_log_reg)\n",
    "    log_reg_roc_auc = roc_auc_score(y_test_class, y_pred_proba_log_reg)\n",
    "else:\n",
    "    fpr, tpr, log_reg_roc_auc = [0, 1], [0, 1], 0.5\n",
    "\n",
    "fig_roc = go.Figure()\n",
    "fig_roc.add_trace(go.Scatter(x=fpr, y=tpr, mode='lines', name=f'ROC Curve (AUC = {log_reg_roc_auc:.2f})',\n",
    "                             line=dict(color=colors['primary'])))\n",
    "fig_roc.add_trace(go.Scatter(x=[0, 1], y=[0, 1], mode='lines', name='Random Guess',\n",
    "                             line=dict(color=colors['secondary'], dash='dash')))\n",
    "fig_roc.update_layout(\n",
    "    title='ROC Curve for Logistic Regression',\n",
    "    plot_bgcolor=colors['card'],\n",
    "    paper_bgcolor=colors['card'],\n",
    "    font_color=colors['text'],\n",
    "    title_font_size=20,\n",
    "    xaxis_title=\"False Positive Rate\",\n",
    "    yaxis_title=\"True Positive Rate\",\n",
    "    legend_title=\"Legend\",\n",
    "    template='plotly_dark'\n",
    ")\n",
    "\n",
    "# App setup with Bootstrap DARKLY theme\n",
    "app = Dash(__name__, external_stylesheets=[dbc.themes.DARKLY])\n",
    "\n",
    "# Define custom Plotly template\n",
    "custom_template = dict(\n",
    "    layout=go.Layout(\n",
    "        plot_bgcolor=colors['card'],\n",
    "        paper_bgcolor=colors['card'],\n",
    "        font=dict(color=colors['text'], family='Roboto, sans-serif'),\n",
    "        title_font=dict(size=20, color=colors['text']),\n",
    "        xaxis=dict(gridcolor='rgba(255,255,255,0.1)', title_font=dict(size=16)),\n",
    "        yaxis=dict(gridcolor='rgba(255,255,255,0.1)', title_font=dict(size=16))\n",
    "    )\n",
    ")\n",
    "\n",
    "# Helper function to create cards\n",
    "def create_card(title, dropdown_id, options, value, multi=False, icon=\"mdi:thermometer\"):\n",
    "    return html.Div([\n",
    "        html.H3([\n",
    "            DashIconify(icon=icon, style={'marginRight': '10px'}),\n",
    "            title\n",
    "        ], style={\n",
    "            'textAlign': 'center',\n",
    "            'color': colors['text'],\n",
    "            'marginBottom': '15px',\n",
    "            'fontFamily': 'Roboto, sans-serif',\n",
    "            'fontSize': '20px'\n",
    "        }),\n",
    "        dcc.Dropdown(\n",
    "            id=dropdown_id,\n",
    "            options=options,\n",
    "            value=value,\n",
    "            multi=multi,\n",
    "            style={\n",
    "                'width': '60%',\n",
    "                'margin': '0 auto',\n",
    "                'backgroundColor': colors['card'],\n",
    "                'color': colors['text'],  # Improved contrast\n",
    "                'borderRadius': '5px',\n",
    "                'fontSize': '16px'\n",
    "            }\n",
    "        ),\n",
    "        dbc.Tooltip(f\"Select {'multiple' if multi else 'a'} {title.lower().split(' for ')[1]}\", target=dropdown_id)\n",
    "    ], className='card', style={\n",
    "        'backgroundColor': colors['card'],\n",
    "        'padding': '25px',\n",
    "        'borderRadius': '15px',\n",
    "        'boxShadow': '0 6px 18px rgba(0,0,0,0.4)',\n",
    "        'margin': '20px',\n",
    "        'transition': 'transform 0.2s, box-shadow 0.2s'\n",
    "    })\n",
    "\n",
    "# Layout\n",
    "app.layout = dbc.Container([\n",
    "    # Header\n",
    "    dbc.Row([\n",
    "        dbc.Col(html.H1(\"Global Temperature Analytics Dashboard\", style={\n",
    "            'textAlign': 'center',\n",
    "            'color': colors['text'],\n",
    "            'fontFamily': 'Roboto, sans-serif',\n",
    "            'fontSize': '32px',\n",
    "            'fontWeight': 'bold',\n",
    "            'backgroundColor': colors['card'],\n",
    "            'padding': '20px',\n",
    "            'borderRadius': '15px',\n",
    "            'boxShadow': '0 6px 18px rgba(0,0,0,0.4)',\n",
    "            'margin': '20px'\n",
    "        }), width=12)\n",
    "    ]),\n",
    "    # Year Range Slider\n",
    "    dbc.Row([\n",
    "        dbc.Col([\n",
    "            html.H3(\"Filter by Year Range\", style={\n",
    "                'textAlign': 'center',\n",
    "                'color': colors['text'],\n",
    "                'fontFamily': 'Roboto, sans-serif'\n",
    "            }),\n",
    "            dcc.RangeSlider(\n",
    "                id='year-slider',\n",
    "                min=df['year'].min() if not df.empty else 2000,\n",
    "                max=df['year'].max() if not df.empty else 2020,\n",
    "                value=[df['year'].min(), df['year'].max()] if not df.empty else [2000, 2020],\n",
    "                marks={str(year): str(year) for year in df['year'].unique()} if not df.empty else {str(i): str(i) for i in range(2000, 2021, 5)},\n",
    "                step=None,\n",
    "                className='mb-4'\n",
    "            ),\n",
    "            dbc.Tooltip(\"Select a year range to filter all visualizations\", target='year-slider')\n",
    "        ], width=12, className='card', style={\n",
    "            'backgroundColor': colors['card'],\n",
    "            'padding': '25px',\n",
    "            'borderRadius': '15px',\n",
    "            'boxShadow': '0 6px 18px rgba(0,0,0,0.4)',\n",
    "            'margin': '20px'\n",
    "        })\n",
    "    ]),\n",
    "    # Download Button\n",
    "    dbc.Row([\n",
    "        dbc.Col([\n",
    "            html.Button(\"Download Data as CSV\", id=\"download-btn\", className='btn btn-primary'),\n",
    "            dcc.Download(id=\"download-data\")\n",
    "        ], width=12, style={'textAlign': 'center', 'margin': '20px'})\n",
    "    ]),\n",
    "    # Accordion for Visualizations\n",
    "    dbc.Accordion([\n",
    "        # Line Plot Section\n",
    "        dbc.AccordionItem([\n",
    "            create_card(\"Select Countries for Temperature Trends\", \"country-line-dropdown\",\n",
    "                        [{'label': c, 'value': c} for c in df['country'].unique()] if not df.empty else [{'label': 'No Data', 'value': 'No Data'}],\n",
    "                        df['country'].unique()[:3].tolist() if not df.empty else ['No Data'], multi=True),\n",
    "            dcc.Loading(dcc.Graph(id='line-plot', config={'displayModeBar': False}, style={'borderRadius': '10px'}))\n",
    "        ], title=\"Temperature Trends\"),\n",
    "        # Bar Plot Section\n",
    "        dbc.AccordionItem([\n",
    "            create_card(\"Select Year for Temperature Comparison\", \"year-bar-dropdown\",\n",
    "                        [{'label': y, 'value': y} for y in sorted(df['year'].unique())] if not df.empty else [{'label': '2020', 'value': 2020}],\n",
    "                        df['year'].max() if not df.empty else 2020),\n",
    "            dcc.Loading(dcc.Graph(id='bar-plot', config={'displayModeBar': False}, style={'borderRadius': '10px'}))\n",
    "        ], title=\"Temperature Comparison\"),\n",
    "        # Scatter and Box Plot Section\n",
    "        dbc.AccordionItem([\n",
    "            dbc.Row([\n",
    "                dbc.Col([\n",
    "                    create_card(\"Select Country for Temperature with Change Rate\", \"country-scatter-dropdown\",\n",
    "                                [{'label': c, 'value': c} for c in df['country'].unique()] if not df.empty else [{'label': 'No Data', 'value': 'No Data'}],\n",
    "                                'Brazil' if not df.empty and 'Brazil' in df['country'].unique() else 'No Data')\n",
    "                ], width=6),\n",
    "                dbc.Col([\n",
    "                    create_card(\"Select Countries for Temperature Change Distribution\", \"country-box-dropdown\",\n",
    "                                [{'label': c, 'value': c} for c in df['country'].unique()] if not df.empty else [{'label': 'No Data', 'value': 'No Data'}],\n",
    "                                df['country'].unique()[:5].tolist() if not df.empty else ['No Data'], multi=True)\n",
    "                ], width=6)\n",
    "            ]),\n",
    "            dbc.Row([\n",
    "                dbc.Col(dcc.Loading(dcc.Graph(id='scatter-plot', style={'borderRadius': '10px'})), width=6),\n",
    "                dbc.Col(dcc.Loading(dcc.Graph(id='box-plot', style={'borderRadius': '10px'})), width=6)\n",
    "            ])\n",
    "        ], title=\"Temperature Change Analysis\"),\n",
    "        # Heatmap Section\n",
    "        dbc.AccordionItem([\n",
    "            create_card(\"Select Regions for Average Temperature with Year\", \"region-heatmap-dropdown\",\n",
    "                        [{'label': r, 'value': r} for r in df['region'].unique()] if not df.empty else [{'label': 'No Data', 'value': 'No Data'}],\n",
    "                        df['region'].unique().tolist() if not df.empty else ['No Data'], multi=True),\n",
    "            dcc.Loading(dcc.Graph(id='heatmap-plot', style={'borderRadius': '10px'}))\n",
    "        ], title=\"Regional Temperature Heatmap\"),\n",
    "        # Map Section\n",
    "        dbc.AccordionItem([\n",
    "            create_card(\"Select Year for Global Temperature Map\", \"year-map-dropdown\",\n",
    "                        [{'label': y, 'value': y} for y in sorted(df['year'].unique())] if not df.empty else [{'label': '2020', 'value': 2020}],\n",
    "                        df['year'].max() if not df.empty else 2020),\n",
    "            dcc.Loading(dcc.Graph(id='map-plot', style={'borderRadius': '10px'}))\n",
    "        ], title=\"Global Temperature Map\"),\n",
    "        # ROC Curve Section\n",
    "        dbc.AccordionItem([\n",
    "            dcc.Graph(id='roc-plot', figure=fig_roc, style={'borderRadius': '10px'})\n",
    "        ], title=\"ROC Curve for Logistic Regression\")\n",
    "    ], style={'backgroundColor': colors['card'], 'borderRadius': '15px', 'margin': '20px'})\n",
    "], fluid=True, style={\n",
    "    'background': 'linear-gradient(180deg, #1E1E2E 0%, #2A2A3C 100%)',\n",
    "    'fontFamily': 'Roboto, sans-serif',\n",
    "    'padding': '20px'\n",
    "})\n",
    "\n",
    "# Client-side callback for dropdown CSS and card hover effects\n",
    "app.clientside_callback(\n",
    "    \"\"\"\n",
    "    function() {\n",
    "        const style = document.createElement('style');\n",
    "        style.type = 'text/css';\n",
    "        style.innerHTML = `\n",
    "            .Select-menu-outer {\n",
    "                background-color: #2A2A3C !important;\n",
    "            }\n",
    "            .Select-option {\n",
    "                color: #D1D1D6 !important;\n",
    "                background-color: #2A2A3C !important;\n",
    "            }\n",
    "            .Select-option:hover {\n",
    "                background-color: #6E56CF !important;\n",
    "                color: white !important;\n",
    "            }\n",
    "            .Select-control {\n",
    "                background-color: #2A2A3C !important;\n",
    "                color: #D1D1D6 !important;\n",
    "            }\n",
    "            .Select-value-label {\n",
    "                color: #D1D1D6 !important;\n",
    "            }\n",
    "            .Select-input > input {\n",
    "                color: #D1D1D6 !important;\n",
    "            }\n",
    "            .card:hover {\n",
    "                transform: scale(1.02);\n",
    "                box-shadow: 0 8px 24px rgba(0,0,0,0.5);\n",
    "            }\n",
    "        `;\n",
    "        document.head.appendChild(style);\n",
    "        return null;\n",
    "    }\n",
    "    \"\"\",\n",
    "    Output('line-plot', 'id'),\n",
    "    Input('line-plot', 'id')\n",
    ")\n",
    "\n",
    "# Callback for Download\n",
    "@app.callback(\n",
    "    Output(\"download-data\", \"data\"),\n",
    "    Input(\"download-btn\", \"n_clicks\"),\n",
    "    prevent_initial_call=True\n",
    ")\n",
    "def download_data(n_clicks):\n",
    "    if df.empty:\n",
    "        return None\n",
    "    return dcc.send_data_frame(df.to_csv, \"temperature_data.csv\")\n",
    "\n",
    "# Callback for Line Plot\n",
    "@app.callback(\n",
    "    Output('line-plot', 'figure'),\n",
    "    [Input('country-line-dropdown', 'value'), Input('year-slider', 'value')]\n",
    ")\n",
    "def update_line_plot(selected_countries, year_range):\n",
    "    if not selected_countries or df.empty or 'No Data' in selected_countries:\n",
    "        fig = go.Figure()\n",
    "        fig.add_annotation(\n",
    "            text=\"No data available\",\n",
    "            xref=\"paper\", yref=\"paper\",\n",
    "            x=0.5, y=0.5, showarrow=False,\n",
    "            font=dict(size=20, color=colors['text'])\n",
    "        )\n",
    "        fig.update_layout(\n",
    "            title='Temperature Trends by Country',\n",
    "            xaxis_title=\"Year\",\n",
    "            yaxis_title=\"Temperature (°F)\",\n",
    "            legend_title=\"Country\",\n",
    "            hovermode='closest',\n",
    "            template=custom_template,\n",
    "            showlegend=True,\n",
    "            margin=dict(l=50, r=50, t=50, b=50),\n",
    "            height=500,\n",
    "            dragmode='zoom',\n",
    "            xaxis_rangeslider_visible=True\n",
    "        )\n",
    "        return fig\n",
    "\n",
    "    filtered_df = df[df['country'].isin(selected_countries) & (df['year'].between(year_range[0], year_range[1]))]\n",
    "    fig = go.Figure()\n",
    "    for country in selected_countries:\n",
    "        country_df = filtered_df[filtered_df['country'] == country]\n",
    "        if not country_df.empty:\n",
    "            fig.add_trace(go.Scatter(\n",
    "                x=country_df['year'],\n",
    "                y=country_df['temperature'],\n",
    "                mode='lines+markers',\n",
    "                name=country,\n",
    "                hovertemplate='<b>%{text}</b><br>Year: %{x}<br>Temperature: %{y:.2f}°F<br>Temp Change: %{customdata:.2f}%',\n",
    "                text=[country] * len(country_df),\n",
    "                customdata=country_df['temp_change'],\n",
    "                line=dict(width=2),\n",
    "                marker=dict(size=6)\n",
    "            ))\n",
    "            # Add annotation for peak temperature\n",
    "            max_temp = country_df['temperature'].max()\n",
    "            max_year = country_df[country_df['temperature'] == max_temp]['year'].iloc[0]\n",
    "            fig.add_annotation(\n",
    "                x=max_year, y=max_temp,\n",
    "                text=f\"Peak: {max_temp:.1f}°F\",\n",
    "                showarrow=True,\n",
    "                arrowhead=2,\n",
    "                ax=20, ay=-30,\n",
    "                font=dict(color=colors['text'], size=12)\n",
    "            )\n",
    "\n",
    "    fig.update_layout(\n",
    "        title='Temperature Trends by Country',\n",
    "        xaxis_title=\"Year\",\n",
    "        yaxis_title=\"Temperature (°F)\",\n",
    "        legend_title=\"Country\",\n",
    "        hovermode='closest',\n",
    "        template=custom_template,\n",
    "        showlegend=True,\n",
    "        margin=dict(l=50, r=50, t=50, b=50),\n",
    "        height=500,\n",
    "        dragmode='zoom',\n",
    "        xaxis_rangeslider_visible=True\n",
    "    )\n",
    "    return fig\n",
    "\n",
    "# Callback for Bar Plot\n",
    "@app.callback(\n",
    "    Output('bar-plot', 'figure'),\n",
    "    [Input('year-bar-dropdown', 'value'), Input('year-slider', 'value')]\n",
    ")\n",
    "def update_bar_plot(selected_year, year_range):\n",
    "    if df.empty:\n",
    "        fig = go.Figure()\n",
    "        fig.add_annotation(\n",
    "            text=\"No data available\",\n",
    "            xref=\"paper\", yref=\"paper\",\n",
    "            x=0.5, y=0.5, showarrow=False,\n",
    "            font=dict(size=20, color=colors['text'])\n",
    "        )\n",
    "        fig.update_layout(\n",
    "            title='Temperature Comparison',\n",
    "            xaxis_title=\"Country\",\n",
    "            yaxis_title=\"Temperature (°F)\",\n",
    "            template=custom_template,\n",
    "            height=500\n",
    "        )\n",
    "        return fig\n",
    "\n",
    "    if selected_year not in range(year_range[0], year_range[1] + 1):\n",
    "        selected_year = year_range[1]\n",
    "    filtered_df = df[df['year'] == selected_year]\n",
    "    fig = px.bar(filtered_df, x='country', y='temperature',\n",
    "                 title=f'Temperature Comparison in {selected_year}',\n",
    "                 text=filtered_df['temperature'].apply(lambda x: f'{x:.2f}'))\n",
    "    fig.update_traces(marker_color=colors['primary'], textposition='auto')\n",
    "    fig.update_layout(\n",
    "        xaxis_title=\"Country\",\n",
    "        yaxis_title=\"Temperature (°F)\",\n",
    "        showlegend=False,\n",
    "        template=custom_template,\n",
    "        height=500\n",
    "    )\n",
    "    return fig\n",
    "\n",
    "# Callback for Scatter Plot\n",
    "@app.callback(\n",
    "    Output('scatter-plot', 'figure'),\n",
    "    [Input('country-scatter-dropdown', 'value'), Input('year-slider', 'value')]\n",
    ")\n",
    "def update_scatter_plot(selected_country, year_range):\n",
    "    if df.empty or selected_country == 'No Data':\n",
    "        fig = go.Figure()\n",
    "        fig.add_annotation(\n",
    "            text=\"No data available\",\n",
    "            xref=\"paper\", yref=\"paper\",\n",
    "            x=0.5, y=0.5, showarrow=False,\n",
    "            font=dict(size=20, color=colors['text'])\n",
    "        )\n",
    "        fig.update_layout(\n",
    "            title='Temperature with Change Rate',\n",
    "            xaxis_title=\"Year\",\n",
    "            yaxis_title=\"Temperature (°F)\",\n",
    "            template=custom_template,\n",
    "            height=500\n",
    "        )\n",
    "        return fig\n",
    "\n",
    "    filtered_df = df[(df['country'] == selected_country) & (df['year'].between(year_range[0], year_range[1]))]\n",
    "    fig = px.scatter(filtered_df, x='year', y='temperature',\n",
    "                     size=filtered_df['temp_change'].abs(),\n",
    "                     color=filtered_df['temp_change'].apply(lambda x: 'Positive' if x > 0 else 'Negative'),\n",
    "                     title=f'{selected_country} Temperature with Change Rate',\n",
    "                     trendline='ols',\n",
    "                     color_discrete_map={'Positive': colors['primary'], 'Negative': colors['secondary']})\n",
    "    fig.update_layout(\n",
    "        xaxis_title=\"Year\",\n",
    "        yaxis_title=\"Temperature (°F)\",\n",
    "        legend_title=\"Change Direction\",\n",
    "        template=custom_template,\n",
    "        height=500,\n",
    "        dragmode='zoom',\n",
    "        xaxis_rangeslider_visible=True\n",
    "    )\n",
    "    return fig\n",
    "\n",
    "# Callback for Box Plot\n",
    "@app.callback(\n",
    "    Output('box-plot', 'figure'),\n",
    "    [Input('country-box-dropdown', 'value'), Input('year-slider', 'value')]\n",
    ")\n",
    "def update_box_plot(selected_countries, year_range):\n",
    "    if df.empty or not selected_countries or 'No Data' in selected_countries:\n",
    "        fig = go.Figure()\n",
    "        fig.add_annotation(\n",
    "            text=\"No data available\",\n",
    "            xref=\"paper\", yref=\"paper\",\n",
    "            x=0.5, y=0.5, showarrow=False,\n",
    "            font=dict(size=20, color=colors['text'])\n",
    "        )\n",
    "        fig.update_layout(\n",
    "            title='Temperature Change Distribution',\n",
    "            xaxis_title=\"Country\",\n",
    "            yaxis_title=\"Temperature Change (%)\",\n",
    "            template=custom_template,\n",
    "            height=500\n",
    "        )\n",
    "        return fig\n",
    "\n",
    "    if not selected_countries:\n",
    "        selected_countries = df['country'].unique()[:5].tolist()\n",
    "    filtered_df = df[df['country'].isin(selected_countries) & (df['year'].between(year_range[0], year_range[1]))]\n",
    "    fig = px.box(filtered_df, x='country', y='temp_change',\n",
    "                 title='Temperature Change Distribution by Country')\n",
    "    fig.update_traces(marker_color=colors['secondary'])\n",
    "    fig.update_layout(\n",
    "        xaxis_title=\"Country\",\n",
    "        yaxis_title=\"Temperature Change (%)\",\n",
    "        showlegend=False,\n",
    "        template=custom_template,\n",
    "        height=500\n",
    "    )\n",
    "    return fig\n",
    "\n",
    "# Callback for Heatmap\n",
    "@app.callback(\n",
    "    Output('heatmap-plot', 'figure'),\n",
    "    [Input('region-heatmap-dropdown', 'value'), Input('year-slider', 'value')]\n",
    ")\n",
    "def update_heatmap(selected_regions, year_range):\n",
    "    if df.empty or not selected_regions or 'No Data' in selected_regions:\n",
    "        fig = go.Figure()\n",
    "        fig.add_annotation(\n",
    "            text=\"No data available\",\n",
    "            xref=\"paper\", yref=\"paper\",\n",
    "            x=0.5, y=0.5, showarrow=False,\n",
    "            font=dict(size=20, color=colors['text'])\n",
    "        )\n",
    "        fig.update_layout(\n",
    "            title='Average Temperature by Region and Year',\n",
    "            xaxis_title=\"Year\",\n",
    "            yaxis_title=\"Region\",\n",
    "            template=custom_template,\n",
    "            height=500\n",
    "        )\n",
    "        return fig\n",
    "\n",
    "    if not selected_regions:\n",
    "        selected_regions = df['region'].unique().tolist()\n",
    "    filtered_df = df[df['region'].isin(selected_regions) & (df['year'].between(year_range[0], year_range[1]))]\n",
    "    pivot_df = filtered_df.pivot_table(values='temperature', index='region', columns='year', aggfunc='mean')\n",
    "    fig = go.Figure(data=go.Heatmap(\n",
    "        z=pivot_df.values,\n",
    "        x=pivot_df.columns,\n",
    "        y=pivot_df.index,\n",
    "        colorscale='Viridis',\n",
    "        showscale=True))\n",
    "    fig.update_layout(\n",
    "        title='Average Temperature by Region and Year',\n",
    "        xaxis_title=\"Year\",\n",
    "        yaxis_title=\"Region\",\n",
    "        template=custom_template,\n",
    "        height=500\n",
    "    )\n",
    "    return fig\n",
    "\n",
    "# Callback for Map\n",
    "@app.callback(\n",
    "    Output('map-plot', 'figure'),\n",
    "    [Input('year-map-dropdown', 'value'), Input('year-slider', 'value')]\n",
    ")\n",
    "def update_map_plot(selected_year, year_range):\n",
    "    if df.empty:\n",
    "        fig = go.Figure()\n",
    "        fig.add_annotation(\n",
    "            text=\"No data available\",\n",
    "            xref=\"paper\", yref=\"paper\",\n",
    "            x=0.5, y=0.5, showarrow=False,\n",
    "            font=dict(size=20, color=colors['text'])\n",
    "        )\n",
    "        fig.update_layout(\n",
    "            title='Global Temperature Map',\n",
    "            template=custom_template,\n",
    "            height=500\n",
    "        )\n",
    "        return fig\n",
    "\n",
    "    if selected_year not in range(year_range[0], year_range[1] + 1):\n",
    "        selected_year = year_range[1]\n",
    "    filtered_df = df[df['year'] == selected_year]\n",
    "    fig = px.choropleth(filtered_df, locations='country', locationmode='country names',\n",
    "                        color='temperature', hover_name='country',\n",
    "                        title=f'Global Temperature Map for {selected_year}',\n",
    "                        color_continuous_scale=px.colors.sequential.Plasma)\n",
    "    fig.update_layout(\n",
    "        geo=dict(bgcolor=colors['card'], showframe=False),\n",
    "        template=custom_template,\n",
    "        height=500\n",
    "    )\n",
    "    return fig\n",
    "\n",
    "# Run app\n",
    "if __name__ == '__main__':\n",
    "    app.run(debug=True, port=8050)"
   ]
  },
  {
   "cell_type": "code",
   "execution_count": null,
   "id": "63d50a59-367d-45ab-b7e6-76ca6dc2b8ec",
   "metadata": {},
   "outputs": [],
   "source": []
  }
 ],
 "metadata": {
  "kernelspec": {
   "display_name": "Python 3 (ipykernel)",
   "language": "python",
   "name": "python3"
  },
  "language_info": {
   "codemirror_mode": {
    "name": "ipython",
    "version": 3
   },
   "file_extension": ".py",
   "mimetype": "text/x-python",
   "name": "python",
   "nbconvert_exporter": "python",
   "pygments_lexer": "ipython3",
   "version": "3.12.7"
  }
 },
 "nbformat": 4,
 "nbformat_minor": 5
}
